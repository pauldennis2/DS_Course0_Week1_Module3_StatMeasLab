{
 "cells": [
  {
   "cell_type": "markdown",
   "id": "c460bc8b",
   "metadata": {},
   "source": [
    "# Statistical Measures - Lab"
   ]
  },
  {
   "cell_type": "markdown",
   "id": "d31afd78",
   "metadata": {},
   "source": [
    "## Introduction"
   ]
  },
  {
   "cell_type": "markdown",
   "id": "7e481396",
   "metadata": {},
   "source": [
    "In this lab, you will apply your knowledge of statistical measures with Python to solve a real-world problem. You are a junior analyst for a company that sells widgets for use across many different industries/markets. Your boss has asked you to give her a summary of widget sales across these markets for the past year. She wants to know:\n",
    "\n",
    "- What has been the typical sales volume across markets?\n",
    "- How variable have sales been across the different markets this past year?\n",
    "- How much has the company been characteristically spending in different advertising media (TV, radio, and newspaper) across the different markets for the past year?"
   ]
  },
  {
   "cell_type": "markdown",
   "id": "e5b19ba0",
   "metadata": {},
   "source": [
    "## Objectives"
   ]
  },
  {
   "cell_type": "markdown",
   "id": "2329da3d",
   "metadata": {},
   "source": [
    "You will be able to:\n",
    "- Calculate central tendency within a variable in Python\n",
    "- Create visualizations to showcase central tendency\n",
    "- Compare variables by their central tendency\n",
    "- Calculate dispersion within a variable"
   ]
  },
  {
   "cell_type": "markdown",
   "id": "a537077c",
   "metadata": {
    "ExecuteTime": {
     "end_time": "2024-07-09T15:46:39.290284Z",
     "start_time": "2024-07-09T15:46:39.286522Z"
    }
   },
   "source": [
    "### Sales Data Summary"
   ]
  },
  {
   "cell_type": "markdown",
   "id": "f4c9cdea",
   "metadata": {},
   "source": [
    "You have been given a dataset (in CSV format) that contains sales and advertising budget information that you will require for your analysis. There are four columns:\n",
    "1. `sales`: the number of widgets sold (in thousands)\n",
    "2. `tv`: the amount of money (in thousands of dollars) spent on TV ads\n",
    "3. `radio`: the amount of money (in thousands of dollars) spent on radio ads\n",
    "4. `newspaper`: the amount of money (in thousands of dollars) spent on newspaper ads"
   ]
  },
  {
   "cell_type": "code",
   "execution_count": 42,
   "id": "a34906ed",
   "metadata": {
    "ExecuteTime": {
     "end_time": "2024-07-09T15:55:11.132187Z",
     "start_time": "2024-07-09T15:55:11.124278Z"
    }
   },
   "outputs": [],
   "source": [
    "# CodeGrade step0\n",
    "# Run this cell without changes\n",
    "import csv\n",
    "import numpy as np\n",
    "import scipy.stats as stats"
   ]
  },
  {
   "cell_type": "markdown",
   "id": "63fcbf35",
   "metadata": {},
   "source": [
    "## Step 1"
   ]
  },
  {
   "cell_type": "markdown",
   "id": "12c24801",
   "metadata": {},
   "source": [
    "Use the `csv` `DictReader` to load the dataset into a list of dictionaries and save it to a variable data."
   ]
  },
  {
   "cell_type": "code",
   "execution_count": 43,
   "id": "76fac965",
   "metadata": {
    "ExecuteTime": {
     "end_time": "2024-07-09T15:55:11.135171Z",
     "start_time": "2024-07-09T15:55:11.133494Z"
    }
   },
   "outputs": [],
   "source": [
    "# CodeGrade step1\n",
    "# Replace None with appropriate code\n",
    "with open(\"Advertising.csv\") as f:\n",
    "    data = list(csv.DictReader(f))"
   ]
  },
  {
   "cell_type": "markdown",
   "id": "bd9a6c24",
   "metadata": {},
   "source": [
    "## Step 2"
   ]
  },
  {
   "cell_type": "markdown",
   "id": "eb23440a",
   "metadata": {},
   "source": [
    "Extract sales numbers for each market in the dataset as a list and save it to a variable “sales”. Then save TV, Radio, and Newspaper advertising expenditures to lists called “tv”, “radio” and “newspaper” respectively."
   ]
  },
  {
   "cell_type": "code",
   "execution_count": 44,
   "id": "40ba23ef",
   "metadata": {
    "ExecuteTime": {
     "end_time": "2024-07-09T15:55:11.145518Z",
     "start_time": "2024-07-09T15:55:11.136819Z"
    }
   },
   "outputs": [],
   "source": [
    "# CodeGrade step2\n",
    "# Replace None with appropriate code\n",
    "\n",
    "sales = []\n",
    "tv = []\n",
    "radio = []\n",
    "newspaper = []\n",
    "\n",
    "# List comprehension would be great individually but forces multiple iterations\n",
    "# Doing this in one for loop should be faster and would scale better with more fields\n",
    "for record in data:\n",
    "    sales.append(float(record[\"sales\"]))\n",
    "    tv.append(float(record[\"TV\"]))\n",
    "    radio.append(float(record[\"radio\"]))\n",
    "    newspaper.append(float(record[\"newspaper\"]))"
   ]
  },
  {
   "cell_type": "markdown",
   "id": "d88e2431",
   "metadata": {},
   "source": [
    "## Step 3"
   ]
  },
  {
   "cell_type": "markdown",
   "id": "6b73cccb",
   "metadata": {},
   "source": [
    "Provide a summary of the data by:\n",
    "- Getting the number of markets your company has been engaged in this past year\n",
    "- Use in-built Python functions to get the minimum and maximum sales across all markets operated in."
   ]
  },
  {
   "cell_type": "code",
   "execution_count": 45,
   "id": "a29ddf84",
   "metadata": {
    "ExecuteTime": {
     "end_time": "2024-07-09T15:55:11.164412Z",
     "start_time": "2024-07-09T15:55:11.154531Z"
    }
   },
   "outputs": [],
   "source": [
    "# CodeGrade step3\n",
    "# Replace None with appropriate code\n",
    "\n",
    "# We could accomplish this with numpy but we've been told to use built-in functions\n",
    "num_markets = len(sales)\n",
    "min_sales = min(sales)\n",
    "max_sales = max(sales)"
   ]
  },
  {
   "cell_type": "code",
   "execution_count": 46,
   "id": "b3d15a19",
   "metadata": {},
   "outputs": [
    {
     "name": "stdout",
     "output_type": "stream",
     "text": [
      "\n",
      "This dataset contains records for 200 markets\n",
      "\n",
      "\n",
      "The fewest sales for any market was 1.6 thousand widgets\n",
      "\n",
      "\n",
      "The most sales for any market was 27.0 thousand widgets\n",
      "\n"
     ]
    }
   ],
   "source": [
    "# Run this cell without changes\n",
    "print(f\"\"\"\n",
    "This dataset contains records for {num_markets} markets\n",
    "\n",
    "\n",
    "The fewest sales for any market was {min_sales} thousand widgets\n",
    "\n",
    "\n",
    "The most sales for any market was {max_sales} thousand widgets\n",
    "\"\"\")"
   ]
  },
  {
   "cell_type": "markdown",
   "id": "a8e96711",
   "metadata": {},
   "source": [
    "Run this code to create a histogram of all sales data:"
   ]
  },
  {
   "cell_type": "code",
   "execution_count": 47,
   "id": "3a6b7480",
   "metadata": {
    "ExecuteTime": {
     "end_time": "2024-07-09T15:55:11.572435Z",
     "start_time": "2024-07-09T15:55:11.166325Z"
    }
   },
   "outputs": [],
   "source": [
    "# Run this cell without changes\n",
    "import matplotlib.pyplot as plt\n",
    "%matplotlib inline\n",
    "\n",
    "fig, ax = plt.subplots(figsize=(10, 5))\n",
    "\n",
    "ax.hist(sales, bins=15)\n",
    "\n",
    "ax.set_xlabel(\"Sales (thousands of widgets)\")\n",
    "ax.set_ylabel(\"Count\")\n",
    "\n",
    "ax.set_title(\"Distribution of Sales across Markets\");\n",
    "\n",
    "# Note: for some reason this cell does not display the histogram.\n",
    "# We could use plt.show() but I've been told not to make changes\n",
    "# plt.show()"
   ]
  },
  {
   "cell_type": "markdown",
   "id": "af7c011c",
   "metadata": {
    "ExecuteTime": {
     "end_time": "2024-07-09T15:55:41.025899Z",
     "start_time": "2024-07-09T15:55:41.014647Z"
    }
   },
   "source": [
    "### Typical Sales Volume"
   ]
  },
  {
   "cell_type": "markdown",
   "id": "27dca59d",
   "metadata": {},
   "source": [
    "Now let us address the first business question: What has been the typical sales volume across markets?"
   ]
  },
  {
   "cell_type": "markdown",
   "id": "8429a376",
   "metadata": {},
   "source": [
    "## Step 4"
   ]
  },
  {
   "cell_type": "markdown",
   "id": "20ada597",
   "metadata": {},
   "source": [
    "Based on the histogram, choose an appropriate measure of central tendency for widget sales. Use whatever method you wish to calculate your chosen metric – making any required imports in the cell."
   ]
  },
  {
   "cell_type": "code",
   "execution_count": 48,
   "id": "22814c5f",
   "metadata": {
    "ExecuteTime": {
     "end_time": "2024-07-09T15:55:11.574943Z",
     "start_time": "2024-07-09T15:55:11.127Z"
    }
   },
   "outputs": [
    {
     "data": {
      "text/plain": [
       "12.9"
      ]
     },
     "execution_count": 48,
     "metadata": {},
     "output_type": "execute_result"
    }
   ],
   "source": [
    "# CodeGrade step4\n",
    "# Replace None with appropriate code\n",
    "# Make any imports here\n",
    "# We have already imported numpy but because the cost of re-importing is very small, we'll do that for safety\n",
    "import numpy as np\n",
    "\n",
    "# Assign measure_central_tendency to the mean, median, or mode of the sales data\n",
    "# Looking at the histogram, there is a skew to the right\n",
    "# Since we're being asked for \"typical\" sales, even though this is not well-defined, we'll use median\n",
    "sales_array = np.array(sales)\n",
    "measure_central_tendency = np.median(sales_array)\n",
    "\n",
    "measure_central_tendency"
   ]
  },
  {
   "cell_type": "markdown",
   "id": "c6bdc71a",
   "metadata": {},
   "source": [
    "### Dispersion of Sales Volume"
   ]
  },
  {
   "cell_type": "markdown",
   "id": "5ae97121",
   "metadata": {},
   "source": [
    "Now that we have a number to represent the typical sales volume, let's answer: How variable have sales been across markets?"
   ]
  },
  {
   "cell_type": "markdown",
   "id": "a2eaa9e1",
   "metadata": {},
   "source": [
    "## Step 5"
   ]
  },
  {
   "cell_type": "markdown",
   "id": "ccc613d9",
   "metadata": {},
   "source": [
    "Based on the histogram, choose an appropriate measure of dispersion for widget sales. Use whatever method you wish to calculate your chosen metric – making any required imports in the cell. Have your answer be one value rather than a range."
   ]
  },
  {
   "cell_type": "code",
   "execution_count": 49,
   "id": "12b7c5c4",
   "metadata": {
    "ExecuteTime": {
     "end_time": "2024-07-09T15:55:11.575434Z",
     "start_time": "2024-07-09T15:55:11.128Z"
    }
   },
   "outputs": [
    {
     "data": {
      "text/plain": [
       "7.024999999999999"
      ]
     },
     "execution_count": 49,
     "metadata": {},
     "output_type": "execute_result"
    }
   ],
   "source": [
    "# CodeGrade step5\n",
    "# Replace None or with appropriate code\n",
    "# Make any imports here\n",
    "from scipy.stats import iqr\n",
    "\n",
    "# Assign measure_dispersion\n",
    "# We'll use IQR to look at the range of the middle 50%\n",
    "# I would be inclined to round, but am concerned this will mess with the autograder\n",
    "measure_dispersion = iqr(sales)\n",
    "\n",
    "measure_dispersion"
   ]
  },
  {
   "cell_type": "markdown",
   "id": "51189b11",
   "metadata": {},
   "source": [
    "## Step 6"
   ]
  },
  {
   "cell_type": "markdown",
   "id": "e3bc9f6f",
   "metadata": {},
   "source": [
    "How much has the company characteristically been spending on different advertising media (TV, radio, and newspaper) across the different markets for the past year? Calculate the median expenditure for each media:"
   ]
  },
  {
   "cell_type": "code",
   "execution_count": 50,
   "id": "faa34931",
   "metadata": {
    "ExecuteTime": {
     "end_time": "2024-07-09T15:55:11.576644Z",
     "start_time": "2024-07-09T15:55:11.129Z"
    }
   },
   "outputs": [
    {
     "data": {
      "text/plain": [
       "(149.75, 22.9, 25.75)"
      ]
     },
     "execution_count": 50,
     "metadata": {},
     "output_type": "execute_result"
    }
   ],
   "source": [
    "# CodeGrade step6\n",
    "# Replace None with appropriate code\n",
    "# make any imports here\n",
    "# For safety!\n",
    "import numpy as np\n",
    "\n",
    "# Since we're not using these np arrays further we'll leave them inline\n",
    "# calculate median tv expenditure\n",
    "median_tv_expenditure = np.median(np.array(tv))\n",
    "# calculate median radio expenditure\n",
    "median_radio_expenditure = np.median(np.array(radio))\n",
    "# calculate median newspaper expenditure\n",
    "median_newspaper_expenditure = np.median(np.array(newspaper))\n",
    "\n",
    "median_tv_expenditure, median_radio_expenditure, median_newspaper_expenditure"
   ]
  },
  {
   "cell_type": "markdown",
   "id": "67ec5738",
   "metadata": {},
   "source": [
    "## Step 7"
   ]
  },
  {
   "cell_type": "markdown",
   "id": "fe8a076c",
   "metadata": {},
   "source": [
    "How much has the company characteristically been spending on different advertising media (TV, radio, and newspaper) across the different markets for the past year? Calculate the IQR for each media:"
   ]
  },
  {
   "cell_type": "code",
   "execution_count": 51,
   "id": "a2ae1a1c",
   "metadata": {
    "ExecuteTime": {
     "end_time": "2024-07-09T15:55:11.577204Z",
     "start_time": "2024-07-09T15:55:11.130Z"
    }
   },
   "outputs": [
    {
     "data": {
      "text/plain": [
       "(144.45, 26.549999999999997, 32.35)"
      ]
     },
     "execution_count": 51,
     "metadata": {},
     "output_type": "execute_result"
    }
   ],
   "source": [
    "# CodeGrade step7\n",
    "# Replace None with appropriate code\n",
    "from scipy.stats import iqr\n",
    "\n",
    "# make any imports here\n",
    "iqr_tv_expenditure = iqr(tv)\n",
    "iqr_radio_expenditure = iqr(radio)\n",
    "iqr_newspaper_expenditure = iqr(newspaper)\n",
    "\n",
    "# The results here are not the same as the median but are close\n",
    "# This gives us some confidence in our methods\n",
    "\n",
    "iqr_tv_expenditure, iqr_radio_expenditure, iqr_newspaper_expenditure"
   ]
  },
  {
   "cell_type": "markdown",
   "id": "82f6644c",
   "metadata": {},
   "source": [
    "### Summary"
   ]
  },
  {
   "cell_type": "markdown",
   "id": "efb2de63",
   "metadata": {},
   "source": [
    "In this lab you were able to:\n",
    "- Calculate central tendency within a variable in Python\n",
    "- Create visualizations to showcase central tendency\n",
    "- Compare variables by their central tendency\n",
    "- Calculate dispersion within a variable"
   ]
  }
 ],
 "metadata": {
  "kernelspec": {
   "display_name": "win_c0c1",
   "language": "python",
   "name": "python3"
  },
  "language_info": {
   "codemirror_mode": {
    "name": "ipython",
    "version": 3
   },
   "file_extension": ".py",
   "mimetype": "text/x-python",
   "name": "python",
   "nbconvert_exporter": "python",
   "pygments_lexer": "ipython3",
   "version": "3.12.4"
  },
  "toc": {
   "base_numbering": 1,
   "nav_menu": {},
   "number_sections": true,
   "sideBar": true,
   "skip_h1_title": false,
   "title_cell": "Table of Contents",
   "title_sidebar": "Contents",
   "toc_cell": false,
   "toc_position": {},
   "toc_section_display": true,
   "toc_window_display": false
  }
 },
 "nbformat": 4,
 "nbformat_minor": 5
}
